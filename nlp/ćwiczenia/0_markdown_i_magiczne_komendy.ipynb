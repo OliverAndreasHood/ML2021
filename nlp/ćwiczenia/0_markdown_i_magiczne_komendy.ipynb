{
 "cells": [
  {
   "cell_type": "markdown",
   "metadata": {},
   "source": [
    "<span style=\"font-size:10pt\">&copy; 2019-2020 Michał Bukowski (m.bukowski@uj.edu.pl) ZBA WBBiB UJ</span>"
   ]
  },
  {
   "cell_type": "markdown",
   "metadata": {},
   "source": [
    "---\n",
    "\n",
    "## 0. Markdown\n",
    "\\\n",
    "<font size=3>\n",
    "Wiedząc, że:\n",
    "\n",
    "* całe wyrażenia $\\LaTeX$ o wysokości jednej linii tekstu zapisuje się między znakami dolara `$...$` a te o pełnej wysokości między podwójnymi znakami dolara `$$...$$`\n",
    "* ułamek w tym języku zapisuje się wyrażeniem: `\\frac {...} {...}`\n",
    "* zmiennej wielkości nawias okrągły prawy i lewy: `\\left ( {...} \\right )`\n",
    "* indeks górny: `{...}^{...}`\n",
    "* indeks dolny: `{...}_{...}`\n",
    "* sumę: `\\sum_{...}^{...} {...}`\n",
    "* litery alfabetu greckiego poprzez ich nazwy z małej lub wielkiej litery: `\\Phi \\phi`\n",
    "* jeżeli wygenerowane równianie wydaje się za małe, całe wyrażenie $\\LaTeX$ możemy poprzedzić wyrażeniem `\\Large`\n",
    "\n",
    "zmień typ poniższej komórki na typ `Markdown`, wpisz odpowiednie wyrażenie $\\LaTeX$ i uruchom komórkę, aby wygenerować na jego podstawie równanie:\n",
    "\n",
    "<img src=\"drawings/latex.png\" width=\"250\">\n",
    "\n",
    "</font>"
   ]
  },
  {
   "cell_type": "code",
   "execution_count": null,
   "metadata": {},
   "outputs": [],
   "source": [
    "????\n"
   ]
  },
  {
   "cell_type": "markdown",
   "metadata": {},
   "source": [
    "---\n",
    "\n",
    "## 1. _%pdoc_\n",
    "\n",
    "<font size=3>Przetestuj działanie magicznej komendy `%pdoc` zgodnie ze wskazówkami podanymi w kolejnych komórkach.</font>"
   ]
  },
  {
   "cell_type": "code",
   "execution_count": 6,
   "metadata": {},
   "outputs": [
    {
     "data": {
      "text/plain": [
       "\"print(value, ..., sep=' ', end='\\\\n', file=sys.stdout, flush=False)\\n\\nPrints the values to a stream, or to sys.stdout by default.\\nOptional keyword arguments:\\nfile:  a file-like object (stream); defaults to the current sys.stdout.\\nsep:   string inserted between values, default a space.\\nend:   string appended after the last value, default a newline.\\nflush: whether to forcibly flush the stream.\""
      ]
     },
     "execution_count": 6,
     "metadata": {},
     "output_type": "execute_result"
    }
   ],
   "source": [
    "# wykorzystaj funkcję print(),\n",
    "# aby wyświetlić zawartość dokumentacyjnego\n",
    "# ciągu tekstowego (docstring)\n",
    "# funkcji print() (print.__doc__)\n",
    "print.__doc__"
   ]
  },
  {
   "cell_type": "code",
   "execution_count": 7,
   "metadata": {},
   "outputs": [],
   "source": [
    "# a teraz wyświetl tę zawartość,\n",
    "# stosując magiczną komendę %pdoc\n",
    "\n",
    "%pdoc print"
   ]
  },
  {
   "cell_type": "code",
   "execution_count": null,
   "metadata": {},
   "outputs": [],
   "source": [
    "# spróbuj ponownie zrobić to samo,\n",
    "# stosując skrót klawiaturowy Shift + Tab\n",
    "# tuż po wpisaniu nazwy funkcji\n",
    "\n",
    "print "
   ]
  },
  {
   "cell_type": "markdown",
   "metadata": {},
   "source": [
    "---\n",
    "\n",
    "## 2. _%history_\n",
    "\n",
    "<font size=3>Przetestuj działanie magicznej komendy `%history` zgodnie ze wskazówkami podanymi w kolejnych komórkach.</font>"
   ]
  },
  {
   "cell_type": "code",
   "execution_count": 10,
   "metadata": {},
   "outputs": [],
   "source": [
    "# zapisz cały dotychczasowo uruchamiany kod\n",
    "# do pliku history.py\n",
    "\n",
    "%history -f history.pl"
   ]
  },
  {
   "cell_type": "markdown",
   "metadata": {},
   "source": [
    "<font size=3>A teraz przejdź do okna głównego Jupytera, otwórz plik `history.py` i zobacz jego zawartość.</font>"
   ]
  },
  {
   "cell_type": "markdown",
   "metadata": {},
   "source": [
    "---\n",
    "\n",
    "## 3. _%notebook_\n",
    "\n",
    "<font size=3>Przetestuj działanie magicznej komendy `%notebook` zgodnie ze wskazówkami podanymi w kolejnych komórkach.</font>"
   ]
  },
  {
   "cell_type": "code",
   "execution_count": 12,
   "metadata": {},
   "outputs": [],
   "source": [
    "# zapisz dotychczasowo uruchamiany kod do\n",
    "# notatnika o nazwie notebook.ipynb\n",
    "\n",
    "%notebook notebook.ipynb"
   ]
  },
  {
   "cell_type": "markdown",
   "metadata": {},
   "source": [
    "<font size=3>A teraz przejdź do okna głównego Jupytera, otwórz plik `notebook.ipynb` i zobacz jego zawartość.</font>"
   ]
  },
  {
   "cell_type": "markdown",
   "metadata": {},
   "source": [
    "---\n",
    "\n",
    "## 4. _%time_ i _%timeit_\n",
    "\n",
    "<font size=3>Przetestuj działanie magicznych komend `%time` i `%timeit` zgodnie ze wskazówkami podanymi w kolejnych komórkach.\n",
    "\\\n",
    "\\\n",
    "Tam gdzie jest to konieczne zastosuj podwójny znak procent `%%`.\n",
    "\\\n",
    "\\\n",
    "Pamiętaj również, że magiczne komendy obejmujące cały blok kodu (komórkę) muszą być umieszczone <u>w pierwszej linijce komórki</u>.</font>"
   ]
  },
  {
   "cell_type": "code",
   "execution_count": 21,
   "metadata": {},
   "outputs": [],
   "source": [
    "# uruchom poniższy kod, aby utworzyć\n",
    "# listę wartości od 0 do 99\n",
    "\n",
    "values = [ i for i in range(100) ]\n"
   ]
  },
  {
   "cell_type": "code",
   "execution_count": 34,
   "metadata": {},
   "outputs": [
    {
     "name": "stdout",
     "output_type": "stream",
     "text": [
      "CPU times: user 5 µs, sys: 1 µs, total: 6 µs\n",
      "Wall time: 12.4 µs\n"
     ]
    }
   ],
   "source": [
    "# zmierz jednorazowo szybkość działania poniższego kodu,\n",
    "# wykorzystującego operator 'in'\n",
    "%time\n",
    "found = 99 in values\n"
   ]
  },
  {
   "cell_type": "code",
   "execution_count": 38,
   "metadata": {},
   "outputs": [
    {
     "name": "stdout",
     "output_type": "stream",
     "text": [
      "CPU times: user 5 µs, sys: 0 ns, total: 5 µs\n",
      "Wall time: 14.8 µs\n"
     ]
    }
   ],
   "source": [
    "# zmierz jednorazowo szybkość działania poniższego kodu,\n",
    "# którego efekt działania jest taki sam jak w poprzednim\n",
    "# przypadku, niemniej do przeszukiwania listy wykorzystuje\n",
    "# on pętlę 'for'\n",
    "%time\n",
    "found = False\n",
    "\n",
    "for value in values:\n",
    "    \n",
    "    if value == 99:\n",
    "        \n",
    "        found = True\n",
    "        \n",
    "        break\n"
   ]
  },
  {
   "cell_type": "markdown",
   "metadata": {},
   "source": [
    "<font size=3>W dwóch kolejnych komórkach przetestuj średnią szybkość działania tych samych fragmentów kodu, uruchamiając je w 100 replikach i 10 powtórzeniach w każdej replice</font>"
   ]
  },
  {
   "cell_type": "code",
   "execution_count": 39,
   "metadata": {},
   "outputs": [
    {
     "name": "stdout",
     "output_type": "stream",
     "text": [
      "CPU times: user 5 µs, sys: 1 µs, total: 6 µs\n",
      "Wall time: 15 µs\n"
     ]
    }
   ],
   "source": [
    "%time\n",
    "found = 99 in values"
   ]
  },
  {
   "cell_type": "code",
   "execution_count": 40,
   "metadata": {},
   "outputs": [
    {
     "name": "stdout",
     "output_type": "stream",
     "text": [
      "CPU times: user 5 µs, sys: 0 ns, total: 5 µs\n",
      "Wall time: 12.6 µs\n"
     ]
    }
   ],
   "source": [
    "%time\n",
    "found = False\n",
    "\n",
    "for value in values:\n",
    "    \n",
    "    if value == 99:\n",
    "        \n",
    "        found = True\n",
    "        \n",
    "        break\n"
   ]
  },
  {
   "cell_type": "markdown",
   "metadata": {},
   "source": [
    "---\n",
    "\n",
    "## 5. _%run_\n",
    "\n",
    "<font size=3>Otwórz plik `script.py` i przeanalizuj jego kod. Następnie uruchom go komendą `%run` w taki sposób, aby miał dostęp do przestrzeni nazw notatnika (<i>namespace</i>), czyli miał dostęp do obiektów do tej pory utworzonych jako efekt uruchamianego wcześniej kodu. Przy okazji zmierz czas jego działania.</font>"
   ]
  },
  {
   "cell_type": "code",
   "execution_count": 47,
   "metadata": {},
   "outputs": [],
   "source": [
    "# najpierw do zmiennej 'name' przypisz wartość\n",
    "# będącą Twoim imieniem\n",
    "\n",
    "name = '<placeholder>'\n"
   ]
  },
  {
   "cell_type": "code",
   "execution_count": 81,
   "metadata": {},
   "outputs": [
    {
     "name": "stdout",
     "output_type": "stream",
     "text": [
      "Witaj Radek!\n",
      "\n",
      "IPython CPU timings (estimated):\n",
      "  User   :       0.00 s.\n",
      "  System :       0.00 s.\n",
      "Wall time:       2.00 s.\n"
     ]
    }
   ],
   "source": [
    "# uruchom skrypt 'script.py' zgodnie\n",
    "# z wytycznymi w treści zadania\n",
    "\n",
    "%run -i -t script.py\n"
   ]
  },
  {
   "cell_type": "code",
   "execution_count": 51,
   "metadata": {},
   "outputs": [
    {
     "name": "stdout",
     "output_type": "stream",
     "text": [
      "10\n"
     ]
    }
   ],
   "source": [
    "# uruchom poniższy kod\n",
    "\n",
    "print(my_sum)\n"
   ]
  },
  {
   "cell_type": "markdown",
   "metadata": {},
   "source": [
    "<font size=3>Skąd wzięła się zmienna `my_sum`?</font>"
   ]
  },
  {
   "cell_type": "markdown",
   "metadata": {},
   "source": [
    "---\n",
    "\n",
    "## 6. _%load_\n",
    "\n",
    "<font size=3>Załaduj do komórki kod definiujący funkcję `add()` z pliku `script.py`, korzystając z komendy `%load`.</font>"
   ]
  },
  {
   "cell_type": "code",
   "execution_count": null,
   "metadata": {},
   "outputs": [],
   "source": [
    "# %load -s add script.py\n",
    "def add(x, y):\n",
    "    \n",
    "    s = x + y\n",
    "\n",
    "    return s\n"
   ]
  },
  {
   "cell_type": "markdown",
   "metadata": {},
   "source": [
    "---\n",
    "\n",
    "## 7. _%%bash_\n",
    "\n",
    "<font size=3>Poniżej umieszczony jest kod w języku Bash (powłoka tekstowa, <i>shell</i>, Linuxa):\n",
    "    \n",
    "```Bash\n",
    "for i in {0..5}\n",
    "do\n",
    "    echo \"Kolejna liczba: ${i}\"\n",
    "done```\n",
    "    \n",
    "Jest on odpowiednikiem pętli `for` Pythona:\n",
    "\n",
    "```Python\n",
    "for i in range(6):\n",
    "\n",
    "    print(f'Kolejna liczba: {i}')```\n",
    "\n",
    "Z wykorzystaniem komendy `%%bash` uruchom powyższy fragment kodu Bash w poniższej komórce.</font>"
   ]
  },
  {
   "cell_type": "code",
   "execution_count": 82,
   "metadata": {},
   "outputs": [],
   "source": [
    "%%bash \n",
    "for i in {0..5}\n",
    "do\n",
    "    echo \"Kolejna liczba: ${i}\"\n",
    "done\n"
   ]
  },
  {
   "cell_type": "markdown",
   "metadata": {},
   "source": [
    "<font size=3>W dwóch kolejnych komórkach, uruchom ponownie ten sam kod, przechwytując jego wyjście (<i>standard output</i>, <i>stdout</i>) do zmiennej `proc` komendą `%%capture` a następnie wyświetlając je na ekranie z wykorzystaniem funkcji Python `print()`.</font>"
   ]
  },
  {
   "cell_type": "code",
   "execution_count": 87,
   "metadata": {},
   "outputs": [],
   "source": [
    "%%capture proc\n",
    "%%bash\n",
    "for i in {0..5}\n",
    "do\n",
    "    echo \"Kolejna liczba: ${i}\"\n",
    "    \n",
    "done"
   ]
  },
  {
   "cell_type": "code",
   "execution_count": 88,
   "metadata": {},
   "outputs": [
    {
     "name": "stdout",
     "output_type": "stream",
     "text": [
      "Kolejna liczba: 0\n",
      "Kolejna liczba: 1\n",
      "Kolejna liczba: 2\n",
      "Kolejna liczba: 3\n",
      "Kolejna liczba: 4\n",
      "Kolejna liczba: 5\n",
      "\n"
     ]
    }
   ],
   "source": [
    "print(proc)\n"
   ]
  },
  {
   "cell_type": "markdown",
   "metadata": {},
   "source": [
    "---\n",
    "\n",
    "## 8. _!_ i _!!_\n",
    "\n",
    "<font size=3>Pojedyncze wyrażenie w języku Bash, osadzone w kodzie Python, można uruchomić poprzedzając je wykrzyknikiem (`!`). Gdy poprzedzimy je dwoma (`!!`), efekt działania kodu zostanie zapisany do zmiennej `_`. Niemniej możliwym jest uzyskanie tego samego efektu poprzez operację przypisania wartości wyrażenia poprzedzonego jednym wykrzyknikiem (`!`) do zmiennej.\n",
    "\\\n",
    "\\\n",
    "Fragmenty kodu Bash zanim zostaną przesłane do interpretera Bash, są przetwarzane przez interpreter IPythona. Można zatem wykorzystywać w nich wartości zmiennych Python poprzez wpisanie ich w nawiasy klamrowe, np.: `{zmienna}`.\n",
    "\\\n",
    "\\\n",
    "Tutaj należy wziąć pod uwagę, że język Bash wykorzystuje podobne składniowo wyrażenia, np.: `echo \"Katalog roboczy: ${PWD}\"` (możesz spróbować ją uruchomić w terminalu tekstowym). Jeżeli nie chcemy, aby doszło tutaj do nieprzewidywalnego zachowania, nawiasy klamrowe musimy zapisać podwójnie i zawrzeć w konstrukcji `${{...}}` każde odwołanie do zmiennej Bash.\n",
    "\\\n",
    "\\\n",
    "Uruchom i przeanalizuj działanie poniższego kodu.</font>"
   ]
  },
  {
   "cell_type": "code",
   "execution_count": 92,
   "metadata": {},
   "outputs": [
    {
     "name": "stdout",
     "output_type": "stream",
     "text": [
      "Hej!\n"
     ]
    }
   ],
   "source": [
    "# wyświetl tekst poleceniem Bash 'echo'\n",
    "! echo \"Hej!\"\n"
   ]
  },
  {
   "cell_type": "code",
   "execution_count": 93,
   "metadata": {},
   "outputs": [
    {
     "name": "stdout",
     "output_type": "stream",
     "text": [
      "/reserve/home-students/b2-01/jupyter_zadania\n",
      "\n",
      "lub...\n",
      "\n",
      "/reserve/home-students/b2-01/jupyter_zadania\n"
     ]
    }
   ],
   "source": [
    "# wyświetl zmienną systemową PWD (print working directory),\n",
    "# czyli aktualny katalog roboczy, wyrażeniem Bash:\n",
    "\n",
    "! echo $PWD\n",
    "\n",
    "print('\\nlub...\\n')\n",
    "\n",
    "! echo ${PWD}\n"
   ]
  },
  {
   "cell_type": "code",
   "execution_count": 94,
   "metadata": {},
   "outputs": [
    {
     "name": "stdout",
     "output_type": "stream",
     "text": [
      "Hej\n"
     ]
    }
   ],
   "source": [
    "# definiujemy zmienną PWD w Pythonie, oraz\n",
    "# uruchamiamy to samo polecenie Bash,\n",
    "# otrzymując zupełnie inne zachowanie\n",
    "\n",
    "PWD = 'Hej'\n",
    "\n",
    "! echo $PWD\n"
   ]
  },
  {
   "cell_type": "code",
   "execution_count": 96,
   "metadata": {},
   "outputs": [
    {
     "name": "stdout",
     "output_type": "stream",
     "text": [
      "\n"
     ]
    }
   ],
   "source": [
    "# podobnie tutaj\n",
    "! echo ${PWD}\n"
   ]
  },
  {
   "cell_type": "code",
   "execution_count": 97,
   "metadata": {
    "scrolled": true
   },
   "outputs": [
    {
     "name": "stdout",
     "output_type": "stream",
     "text": [
      "/reserve/home-students/b2-01/jupyter_zadania\n"
     ]
    }
   ],
   "source": [
    "# ten kod jednoznacznie wskazuje co chcemy zrobić\n",
    "\n",
    "! echo ${{PWD}}\n"
   ]
  },
  {
   "cell_type": "code",
   "execution_count": 98,
   "metadata": {},
   "outputs": [
    {
     "name": "stdout",
     "output_type": "stream",
     "text": [
      "Zmienna Python: Hej\n",
      "Zmienna Bash: /reserve/home-students/b2-01/jupyter_zadania\n"
     ]
    }
   ],
   "source": [
    "# podobnie tutaj\n",
    "\n",
    "! echo \"Zmienna Python: {PWD}\"\n",
    "\n",
    "! echo \"Zmienna Bash: ${{PWD}}\"\n"
   ]
  },
  {
   "cell_type": "code",
   "execution_count": 99,
   "metadata": {},
   "outputs": [
    {
     "data": {
      "text/plain": [
       "['/reserve/home-students/b2-01/jupyter_zadania']"
      ]
     },
     "execution_count": 99,
     "metadata": {},
     "output_type": "execute_result"
    }
   ],
   "source": [
    "# przypisanie do zmiennej '_'\n",
    "\n",
    "!! echo ${{PWD}}\n"
   ]
  },
  {
   "cell_type": "code",
   "execution_count": 100,
   "metadata": {},
   "outputs": [
    {
     "name": "stdout",
     "output_type": "stream",
     "text": [
      "['/reserve/home-students/b2-01/jupyter_zadania']\n"
     ]
    }
   ],
   "source": [
    "print(_)\n"
   ]
  },
  {
   "cell_type": "code",
   "execution_count": 101,
   "metadata": {},
   "outputs": [],
   "source": [
    "# lub nieco inaczej\n",
    "\n",
    "stdout_lines = ! echo ${{PWD}}\n"
   ]
  },
  {
   "cell_type": "code",
   "execution_count": 102,
   "metadata": {},
   "outputs": [
    {
     "name": "stdout",
     "output_type": "stream",
     "text": [
      "['/reserve/home-students/b2-01/jupyter_zadania']\n"
     ]
    }
   ],
   "source": [
    "print(stdout_lines)\n"
   ]
  },
  {
   "cell_type": "markdown",
   "metadata": {},
   "source": [
    "---"
   ]
  }
 ],
 "metadata": {
  "kernelspec": {
   "display_name": "Python 3",
   "language": "python",
   "name": "python3"
  },
  "language_info": {
   "codemirror_mode": {
    "name": "ipython",
    "version": 3
   },
   "file_extension": ".py",
   "mimetype": "text/x-python",
   "name": "python",
   "nbconvert_exporter": "python",
   "pygments_lexer": "ipython3",
   "version": "3.7.4"
  }
 },
 "nbformat": 4,
 "nbformat_minor": 4
}
