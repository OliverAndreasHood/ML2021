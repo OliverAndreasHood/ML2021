{
 "cells": [
  {
   "cell_type": "code",
   "execution_count": 3,
   "metadata": {},
   "outputs": [],
   "source": [
    "import matplotlib\n",
    "import numpy as np\n",
    "import scipy\n",
    "import sklearn"
   ]
  },
  {
   "cell_type": "code",
   "execution_count": 4,
   "metadata": {},
   "outputs": [],
   "source": [
    "import torch"
   ]
  },
  {
   "cell_type": "markdown",
   "metadata": {},
   "source": [
    "### Zadanie 1.\n",
    "Używając funkcji [`np.random.normal`](https://docs.scipy.org/doc/numpy-1.15.0/reference/generated/numpy.random.normal.html) wylosować dwie macierze **różnych** rozmiarów, i następnie przenożyć je przez siebie macierzowo tak aby otrzymać macierz rozmiaru `9x6`."
   ]
  },
  {
   "cell_type": "code",
   "execution_count": 5,
   "metadata": {
    "scrolled": false
   },
   "outputs": [],
   "source": [
    "x = 5\n",
    "A = np.random.normal(size=(9,x))\n",
    "B = np.random.normal(size=(x,6))\n",
    "\n",
    "C = np.matmul(A,B)\n",
    "\n",
    "assert A.shape != B.shape\n",
    "assert C.shape == (9,6)"
   ]
  },
  {
   "cell_type": "markdown",
   "metadata": {},
   "source": [
    "### Zadanie 2.\n",
    "\n",
    "Zaimplementować funkcje $\\sigma$, która przyjmuje macierz numpy $X$ (**uwaga**: nie mylić z `np.matrix`!) i zwraca macierz tego samego rozmiaru z wartościami fukncji:\n",
    "$$\\sigma(x) = \\frac{1}{1 + e^{-x}}$$\n",
    "odpowiednio dla każdego $x$.\n",
    "\n",
    "Hint: [`np.e`](https://docs.scipy.org/doc/numpy/reference/constants.html#numpy.e)"
   ]
  },
  {
   "cell_type": "code",
   "execution_count": 17,
   "metadata": {},
   "outputs": [],
   "source": [
    "def sigmoid(x: np.ndarray) -> np.ndarray:\n",
    "    result = 1 / (1 + np.e ** (-x))\n",
    "    return result\n",
    "    \n",
    "    \n",
    "X = np.random.uniform(low=-10, high=10, size=(1000, 2000))\n",
    "\n",
    "assert sigmoid(X).max() <= 1.\n",
    "assert sigmoid(X).min() >= 0.\n",
    "\n"
   ]
  },
  {
   "cell_type": "code",
   "execution_count": 18,
   "metadata": {},
   "outputs": [
    {
     "name": "stdout",
     "output_type": "stream",
     "text": [
      "182 ms ± 5.76 ms per loop (mean ± std. dev. of 7 runs, 10 loops each)\n"
     ]
    }
   ],
   "source": [
    "%%timeit n=10\n",
    "sigmoid(X)"
   ]
  },
  {
   "cell_type": "markdown",
   "metadata": {},
   "source": [
    "### Zadanie 3.\n",
    "Unstandaryzować wartości w macierzy $X$ per kolumna, tzn. dla każdej wartości $x$ w kolumnie wykonać:\n",
    "\n",
    "$$ f(x_{ij}) = \\frac{x_{ij} - \\mu_j}{\\sigma_j} $$\n",
    "\n",
    "gdzie $\\mu_j$ to średnia wartość kolumny $j$, a $\\sigma_j$ to odchylenie standardowe kolumny $j$."
   ]
  },
  {
   "cell_type": "code",
   "execution_count": 20,
   "metadata": {},
   "outputs": [
    {
     "data": {
      "text/plain": [
       "array([[ 0.7581202 , -0.18429119, -0.34841496, ...,  1.29049788,\n",
       "         1.55439773, -0.73822842],\n",
       "       [ 1.61001832, -0.49396973,  0.83906572, ...,  1.49905319,\n",
       "        -0.74498719, -1.74239132],\n",
       "       [ 1.11182674, -0.41216152,  0.65970111, ..., -0.98892584,\n",
       "        -0.10629864,  0.59581758],\n",
       "       ...,\n",
       "       [ 1.73769428,  0.02887477,  1.29045192, ...,  0.8250869 ,\n",
       "        -0.86252996, -0.62311008],\n",
       "       [-0.34721717,  1.35013439,  1.02400194, ...,  0.02426786,\n",
       "         0.20181149,  0.44205392],\n",
       "       [ 1.39138027, -0.90142135,  1.69231774, ...,  0.59032071,\n",
       "        -0.67828625,  0.62450197]])"
      ]
     },
     "execution_count": 20,
     "metadata": {},
     "output_type": "execute_result"
    }
   ],
   "source": [
    "temp1 = (X - X.mean(axis=0)) / X.std(axis=0)\n",
    "temp1"
   ]
  },
  {
   "cell_type": "code",
   "execution_count": null,
   "metadata": {},
   "outputs": [],
   "source": []
  }
 ],
 "metadata": {
  "kernelspec": {
   "display_name": "Python 3",
   "language": "python",
   "name": "python3"
  },
  "language_info": {
   "codemirror_mode": {
    "name": "ipython",
    "version": 3
   },
   "file_extension": ".py",
   "mimetype": "text/x-python",
   "name": "python",
   "nbconvert_exporter": "python",
   "pygments_lexer": "ipython3",
   "version": "3.7.4"
  }
 },
 "nbformat": 4,
 "nbformat_minor": 2
}
